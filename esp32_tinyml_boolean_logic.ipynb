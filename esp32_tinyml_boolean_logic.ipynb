{
  "nbformat": 4,
  "nbformat_minor": 0,
  "metadata": {
    "colab": {
      "name": "esp32_tinyml_boolean_logic.ipynb",
      "provenance": [],
      "collapsed_sections": [],
      "authorship_tag": "ABX9TyM4D/Z5vqhgb1QcaBMygWsP",
      "include_colab_link": true
    },
    "kernelspec": {
      "name": "python3",
      "display_name": "Python 3"
    },
    "language_info": {
      "name": "python"
    }
  },
  "cells": [
    {
      "cell_type": "markdown",
      "metadata": {
        "id": "view-in-github",
        "colab_type": "text"
      },
      "source": [
        "<a href=\"https://colab.research.google.com/github/anakstei/esp32-tinyml-boolean-logic/blob/main/esp32_tinyml_boolean_logic.ipynb\" target=\"_parent\"><img src=\"https://colab.research.google.com/assets/colab-badge.svg\" alt=\"Open In Colab\"/></a>"
      ]
    },
    {
      "cell_type": "code",
      "metadata": {
        "id": "qCvLnemkRX6e"
      },
      "source": [
        "import tensorflow as tf\n",
        "from tensorflow.keras.models import Sequential\n",
        "from tensorflow.keras.layers import Dense\n",
        "from tensorflow.keras import Input\n",
        "from tensorflow.data import Dataset\n",
        "import numpy as np"
      ],
      "execution_count": 1,
      "outputs": []
    },
    {
      "cell_type": "code",
      "metadata": {
        "id": "DCrZ9f-4Tbl3"
      },
      "source": [
        "# Function for generating dataset\n",
        "def data_generator():\n",
        "  while(True):\n",
        "    a = np.random.randint(2)\n",
        "    b = np.random.randint(2)\n",
        "    X = [a, b]\n",
        "    y = a ^ b\n",
        "    yield X, [y]"
      ],
      "execution_count": 2,
      "outputs": []
    },
    {
      "cell_type": "code",
      "metadata": {
        "id": "YJ_btrk4Uyhf"
      },
      "source": [
        "# Generate dataset\n",
        "train_dataset = tf.data.Dataset.from_generator(data_generator, output_types = (tf.int32, tf.int32), output_shapes=((2), (1)))\n",
        "train_dataset = train_dataset.batch(batch_size=25)"
      ],
      "execution_count": 3,
      "outputs": []
    },
    {
      "cell_type": "code",
      "metadata": {
        "colab": {
          "base_uri": "https://localhost:8080/"
        },
        "id": "oXkTFNyPU7Ae",
        "outputId": "b6a1275f-6dbd-4307-c64f-2f2ffca784d7"
      },
      "source": [
        "# Create a neural network model\n",
        "model = Sequential([Input(shape=(2)), Dense(6, activation='relu'), Dense(1, activation='sigmoid')])\n",
        "model.compile(optimizer='adam', loss=tf.keras.losses.BinaryCrossentropy(), metrics=['accuracy'])\n",
        "model.summary()"
      ],
      "execution_count": 4,
      "outputs": [
        {
          "output_type": "stream",
          "text": [
            "Model: \"sequential\"\n",
            "_________________________________________________________________\n",
            "Layer (type)                 Output Shape              Param #   \n",
            "=================================================================\n",
            "dense (Dense)                (None, 6)                 18        \n",
            "_________________________________________________________________\n",
            "dense_1 (Dense)              (None, 1)                 7         \n",
            "=================================================================\n",
            "Total params: 25\n",
            "Trainable params: 25\n",
            "Non-trainable params: 0\n",
            "_________________________________________________________________\n"
          ],
          "name": "stdout"
        }
      ]
    },
    {
      "cell_type": "code",
      "metadata": {
        "colab": {
          "base_uri": "https://localhost:8080/"
        },
        "id": "P9wPvyjEU77W",
        "outputId": "f0012d58-b88f-42f1-992e-f9808051f37e"
      },
      "source": [
        "# Train the model\n",
        "model.fit(train_dataset, steps_per_epoch=1000, epochs=4)"
      ],
      "execution_count": 5,
      "outputs": [
        {
          "output_type": "stream",
          "text": [
            "Epoch 1/4\n",
            "1000/1000 [==============================] - 7s 6ms/step - loss: 0.6904 - accuracy: 0.4851\n",
            "Epoch 2/4\n",
            "1000/1000 [==============================] - 6s 6ms/step - loss: 0.3739 - accuracy: 1.0000\n",
            "Epoch 3/4\n",
            "1000/1000 [==============================] - 6s 6ms/step - loss: 0.1707 - accuracy: 1.0000\n",
            "Epoch 4/4\n",
            "1000/1000 [==============================] - 6s 6ms/step - loss: 0.0780 - accuracy: 1.0000\n"
          ],
          "name": "stdout"
        },
        {
          "output_type": "execute_result",
          "data": {
            "text/plain": [
              "<tensorflow.python.keras.callbacks.History at 0x7f70f71e70d0>"
            ]
          },
          "metadata": {
            "tags": []
          },
          "execution_count": 5
        }
      ]
    },
    {
      "cell_type": "code",
      "metadata": {
        "id": "C34_2ePhdMdy"
      },
      "source": [
        "# Test the model\n",
        "X_test = np.array([\n",
        "    [0, 0],\n",
        "    [0, 1],\n",
        "    [1, 0],\n",
        "    [1, 1]])\n",
        "y_test = model.predict_on_batch(X_test)"
      ],
      "execution_count": 6,
      "outputs": []
    },
    {
      "cell_type": "code",
      "metadata": {
        "colab": {
          "base_uri": "https://localhost:8080/"
        },
        "id": "4vRCychYhf-5",
        "outputId": "e491b911-cd5b-4c9c-d112-33d67f690061"
      },
      "source": [
        "print(y_test)"
      ],
      "execution_count": 7,
      "outputs": [
        {
          "output_type": "stream",
          "text": [
            "[[0.14213994]\n",
            " [0.9871634 ]\n",
            " [0.9829788 ]\n",
            " [0.00666034]]\n"
          ],
          "name": "stdout"
        }
      ]
    },
    {
      "cell_type": "code",
      "metadata": {
        "colab": {
          "base_uri": "https://localhost:8080/"
        },
        "id": "JuC40zsrhPem",
        "outputId": "ac625f19-cfbb-42dc-9420-d89f83dd4411"
      },
      "source": [
        "print(np.round(y_test))"
      ],
      "execution_count": 8,
      "outputs": [
        {
          "output_type": "stream",
          "text": [
            "[[0.]\n",
            " [1.]\n",
            " [1.]\n",
            " [0.]]\n"
          ],
          "name": "stdout"
        }
      ]
    },
    {
      "cell_type": "code",
      "metadata": {
        "colab": {
          "base_uri": "https://localhost:8080/"
        },
        "id": "5L_9nwz9hdA1",
        "outputId": "b9bdb6bf-9706-4a59-f1f8-c8788c01d256"
      },
      "source": [
        "# Mount google drive\n",
        "from google.colab import drive\n",
        "drive.mount('/gdrive')"
      ],
      "execution_count": 9,
      "outputs": [
        {
          "output_type": "stream",
          "text": [
            "Mounted at /gdrive\n"
          ],
          "name": "stdout"
        }
      ]
    },
    {
      "cell_type": "code",
      "metadata": {
        "colab": {
          "base_uri": "https://localhost:8080/"
        },
        "id": "OHIe5m-fh6E4",
        "outputId": "5a70d58f-2a58-44a4-cd07-436a004be255"
      },
      "source": [
        "# Convert the model to tflite model\n",
        "converter = tf.lite.TFLiteConverter.from_keras_model(model)\n",
        "converter.optimizations = [tf.lite.Optimize.DEFAULT]\n",
        "def representative_dataset_gen():\n",
        "  for _ in range(10000):\n",
        "    yield [np.array([np.random.uniform(), np.random.uniform()], dtype=np.float32)]\n",
        "converter.representative_dataset = representative_dataset_gen\n",
        "converter.target_spec.supported_ops = [tf.lite.OpsSet.TFLITE_BUILTINS_INT8]\n",
        "tflite_quant_model = converter.convert()\n",
        "open(\"/gdrive/MyDrive/Colab Notebooks/esp32-tinyml-boolean-logic/converted_model.tflite\", \"wb\").write(tflite_quant_model)"
      ],
      "execution_count": 10,
      "outputs": [
        {
          "output_type": "stream",
          "text": [
            "INFO:tensorflow:Assets written to: /tmp/tmpctvkb8tu/assets\n"
          ],
          "name": "stdout"
        },
        {
          "output_type": "execute_result",
          "data": {
            "text/plain": [
              "2192"
            ]
          },
          "metadata": {
            "tags": []
          },
          "execution_count": 10
        }
      ]
    },
    {
      "cell_type": "code",
      "metadata": {
        "colab": {
          "base_uri": "https://localhost:8080/"
        },
        "id": "A2-jivItia1-",
        "outputId": "0bfa82af-57b4-4ca0-d773-2145f84b0f09"
      },
      "source": [
        "# Install tool for converting the tflite model to hexadecimal\n",
        "!apt-get install xxd"
      ],
      "execution_count": 11,
      "outputs": [
        {
          "output_type": "stream",
          "text": [
            "Reading package lists... Done\n",
            "Building dependency tree       \n",
            "Reading state information... Done\n",
            "The following NEW packages will be installed:\n",
            "  xxd\n",
            "0 upgraded, 1 newly installed, 0 to remove and 30 not upgraded.\n",
            "Need to get 49.3 kB of archives.\n",
            "After this operation, 200 kB of additional disk space will be used.\n",
            "Get:1 http://archive.ubuntu.com/ubuntu bionic-updates/main amd64 xxd amd64 2:8.0.1453-1ubuntu1.4 [49.3 kB]\n",
            "Fetched 49.3 kB in 0s (139 kB/s)\n",
            "Selecting previously unselected package xxd.\n",
            "(Reading database ... 160980 files and directories currently installed.)\n",
            "Preparing to unpack .../xxd_2%3a8.0.1453-1ubuntu1.4_amd64.deb ...\n",
            "Unpacking xxd (2:8.0.1453-1ubuntu1.4) ...\n",
            "Setting up xxd (2:8.0.1453-1ubuntu1.4) ...\n",
            "Processing triggers for man-db (2.8.3-2ubuntu0.1) ...\n"
          ],
          "name": "stdout"
        }
      ]
    },
    {
      "cell_type": "code",
      "metadata": {
        "id": "qVEPUq7jieXX"
      },
      "source": [
        "# Convert the tflite model to hexadecimal\n",
        "!xxd -i \"/gdrive/MyDrive/Colab Notebooks/esp32-tinyml-boolean-logic/converted_model.tflite\" > \"/gdrive/MyDrive/Colab Notebooks/esp32-tinyml-boolean-logic/model_data.cc\""
      ],
      "execution_count": 12,
      "outputs": []
    },
    {
      "cell_type": "code",
      "metadata": {
        "id": "PPRhZCDninoO"
      },
      "source": [
        ""
      ],
      "execution_count": null,
      "outputs": []
    }
  ]
}